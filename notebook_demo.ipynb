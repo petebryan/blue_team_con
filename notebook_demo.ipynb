{
 "cells": [
  {
   "cell_type": "code",
   "execution_count": null,
   "metadata": {},
   "outputs": [],
   "source": [
    "import requests\n",
    "\n",
    "csv_data_dl = requests.get(\n",
    "    \"https://raw.githubusercontent.com/microsoft/msticpy/main/tests/testdata/az_net_flows.csv\"\n",
    ")\n",
    "with open(\"network_traffic.csv\", \"wb\") as f:\n",
    "    f.write(csv_data_dl.content)\n"
   ]
  },
  {
   "cell_type": "code",
   "execution_count": null,
   "metadata": {},
   "outputs": [],
   "source": [
    "import pandas as pd\n",
    "\n",
    "network_traffic_df = pd.read_csv(\"network_traffic.csv\")\n",
    "network_traffic_df.head()\n"
   ]
  },
  {
   "cell_type": "code",
   "execution_count": null,
   "metadata": {},
   "outputs": [],
   "source": [
    "network_traffic_df.iloc[0].T\n"
   ]
  },
  {
   "cell_type": "code",
   "execution_count": null,
   "metadata": {},
   "outputs": [],
   "source": [
    "ips = network_traffic_df[\"AllExtIPs\"].unique()\n",
    "ips\n"
   ]
  },
  {
   "cell_type": "code",
   "execution_count": null,
   "metadata": {},
   "outputs": [],
   "source": [
    "import os\n",
    "\n",
    "otx_api_key = os.environ[\"OTX_KEY\"]\n",
    "ip = ips[0]\n",
    "url = f\"https://otx.alienvault.com/api/v1/indicators/IPv4/{ip}/general\"\n",
    "headers = {\"X-OTX-API-KEY\": otx_api_key}\n",
    "otx_response = requests.get(url, headers=headers)\n",
    "otx_response.status_code\n"
   ]
  },
  {
   "cell_type": "code",
   "execution_count": null,
   "metadata": {},
   "outputs": [],
   "source": [
    "otx_response.json()\n"
   ]
  },
  {
   "cell_type": "code",
   "execution_count": null,
   "metadata": {},
   "outputs": [],
   "source": [
    "otx_series = pd.Series(otx_response.json())\n",
    "otx_series[[\"reputation\", \"pulse_info\", \"asn\", \"city\", \"country_code\"]]\n"
   ]
  },
  {
   "cell_type": "code",
   "execution_count": null,
   "metadata": {},
   "outputs": [],
   "source": [
    "pulses_df = pd.DataFrame(otx_series[\"pulse_info\"][\"pulses\"])\n",
    "pulses_df\n"
   ]
  },
  {
   "cell_type": "code",
   "execution_count": null,
   "metadata": {},
   "outputs": [],
   "source": [
    "def row_style(row):\n",
    "    if row.related_indicator_is_active == 1:\n",
    "        return pd.Series(\"background-color: red\", row.index)\n",
    "    else:\n",
    "        return pd.Series(\"background-color: none\", row.index)\n",
    "\n",
    "\n",
    "pulses_df.style.apply(row_style, axis=1)\n"
   ]
  },
  {
   "cell_type": "code",
   "execution_count": null,
   "metadata": {},
   "outputs": [],
   "source": [
    "network_traffic_df[network_traffic_df[\"AllExtIPs\"] == ips[0]].plot(\n",
    "    y=\"TotalAllowedFlows\", x=\"TimeGenerated\"\n",
    ")\n"
   ]
  },
  {
   "cell_type": "code",
   "execution_count": null,
   "metadata": {},
   "outputs": [],
   "source": []
  },
  {
   "cell_type": "code",
   "execution_count": null,
   "metadata": {},
   "outputs": [],
   "source": []
  }
 ],
 "metadata": {
  "kernelspec": {
   "display_name": "Python 3.8.11 ('dev')",
   "language": "python",
   "name": "python3"
  },
  "language_info": {
   "codemirror_mode": {
    "name": "ipython",
    "version": 3
   },
   "file_extension": ".py",
   "mimetype": "text/x-python",
   "name": "python",
   "nbconvert_exporter": "python",
   "pygments_lexer": "ipython3",
   "version": "3.8.11"
  },
  "orig_nbformat": 4,
  "vscode": {
   "interpreter": {
    "hash": "1792339f025586dc780463e7089b6c25422d6577b3e40c57c02a07f01593200e"
   }
  }
 },
 "nbformat": 4,
 "nbformat_minor": 2
}
